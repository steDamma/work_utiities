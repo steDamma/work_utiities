{
 "cells": [
  {
   "cell_type": "code",
   "execution_count": 9,
   "id": "initial_id",
   "metadata": {
    "collapsed": true,
    "ExecuteTime": {
     "end_time": "2023-10-23T15:53:00.404521800Z",
     "start_time": "2023-10-23T15:53:00.394102600Z"
    }
   },
   "outputs": [],
   "source": [
    "import os\n",
    "\n",
    "import numpy as np\n",
    "import pandas as pd\n",
    "import matplotlib.pyplot as plt\n",
    "from datetime import datetime, timedelta\n",
    "from tqdm import tqdm\n",
    "\n",
    "from sklearn.utils import shuffle\n",
    "from sklearn.ensemble import RandomForestClassifier\n",
    "\n",
    "from sklearn.svm import SVC\n",
    "from sklearn.pipeline import make_pipeline\n",
    "from sklearn.preprocessing import StandardScaler\n",
    "from sklearn.metrics import (\n",
    "    confusion_matrix,\n",
    "    accuracy_score,\n",
    "    precision_score,\n",
    "    recall_score,\n",
    "    f1_score\n",
    ")"
   ]
  },
  {
   "cell_type": "code",
   "execution_count": 10,
   "outputs": [
    {
     "data": {
      "text/plain": "   month  day  hour              ref_timestamp  idx_val_below_thr  \\\n0     10   21     0  2021-10-21 00:00:00+00:00                  0   \n1     10   21     6  2021-10-21 06:00:00+00:00                  0   \n2     10   21    12  2021-10-21 12:00:00+00:00                  0   \n3     10   21    18  2021-10-21 18:00:00+00:00                  0   \n4     10   22     0  2021-10-22 00:00:00+00:00                  0   \n\n          metric  label         0             1         2  ...         7  \\\n0  10-248-50-179      0  0.295616  4.740116e-09 -0.885352  ...  0.000064   \n1  10-248-50-179      0  0.294538  1.182971e-06 -1.603186  ...  0.002059   \n2  10-248-50-179      0  0.291359  6.987567e-06 -1.633150  ...  0.005371   \n3  10-248-50-179      0  0.288256  2.277511e-06  3.352199  ...  0.000634   \n4  10-248-50-179      0  0.287424  9.186740e-09  0.470930  ...  0.000096   \n\n          8         9        10        11   12        13    14        15  \\\n0  0.295521  0.295727  0.295602  1.478080  0.0 -0.000169   1.0  1.500000   \n1  0.292865  0.295727  0.295602  3.239918  0.0  0.000601   1.0  2.846018   \n2  0.287767  0.294712  0.294712  3.496313  0.0  0.001315  11.0  3.014938   \n3  0.287338  0.292678  0.292678  3.459071  0.0  0.003148   7.0  3.015100   \n4  0.287310  0.287656  0.287656  3.449089  0.0 -0.000124   2.0  3.015113   \n\n         16  \n0  0.250000  \n1  6.099894  \n2  7.090273  \n3  7.090861  \n4  7.090909  \n\n[5 rows x 24 columns]",
      "text/html": "<div>\n<style scoped>\n    .dataframe tbody tr th:only-of-type {\n        vertical-align: middle;\n    }\n\n    .dataframe tbody tr th {\n        vertical-align: top;\n    }\n\n    .dataframe thead th {\n        text-align: right;\n    }\n</style>\n<table border=\"1\" class=\"dataframe\">\n  <thead>\n    <tr style=\"text-align: right;\">\n      <th></th>\n      <th>month</th>\n      <th>day</th>\n      <th>hour</th>\n      <th>ref_timestamp</th>\n      <th>idx_val_below_thr</th>\n      <th>metric</th>\n      <th>label</th>\n      <th>0</th>\n      <th>1</th>\n      <th>2</th>\n      <th>...</th>\n      <th>7</th>\n      <th>8</th>\n      <th>9</th>\n      <th>10</th>\n      <th>11</th>\n      <th>12</th>\n      <th>13</th>\n      <th>14</th>\n      <th>15</th>\n      <th>16</th>\n    </tr>\n  </thead>\n  <tbody>\n    <tr>\n      <th>0</th>\n      <td>10</td>\n      <td>21</td>\n      <td>0</td>\n      <td>2021-10-21 00:00:00+00:00</td>\n      <td>0</td>\n      <td>10-248-50-179</td>\n      <td>0</td>\n      <td>0.295616</td>\n      <td>4.740116e-09</td>\n      <td>-0.885352</td>\n      <td>...</td>\n      <td>0.000064</td>\n      <td>0.295521</td>\n      <td>0.295727</td>\n      <td>0.295602</td>\n      <td>1.478080</td>\n      <td>0.0</td>\n      <td>-0.000169</td>\n      <td>1.0</td>\n      <td>1.500000</td>\n      <td>0.250000</td>\n    </tr>\n    <tr>\n      <th>1</th>\n      <td>10</td>\n      <td>21</td>\n      <td>6</td>\n      <td>2021-10-21 06:00:00+00:00</td>\n      <td>0</td>\n      <td>10-248-50-179</td>\n      <td>0</td>\n      <td>0.294538</td>\n      <td>1.182971e-06</td>\n      <td>-1.603186</td>\n      <td>...</td>\n      <td>0.002059</td>\n      <td>0.292865</td>\n      <td>0.295727</td>\n      <td>0.295602</td>\n      <td>3.239918</td>\n      <td>0.0</td>\n      <td>0.000601</td>\n      <td>1.0</td>\n      <td>2.846018</td>\n      <td>6.099894</td>\n    </tr>\n    <tr>\n      <th>2</th>\n      <td>10</td>\n      <td>21</td>\n      <td>12</td>\n      <td>2021-10-21 12:00:00+00:00</td>\n      <td>0</td>\n      <td>10-248-50-179</td>\n      <td>0</td>\n      <td>0.291359</td>\n      <td>6.987567e-06</td>\n      <td>-1.633150</td>\n      <td>...</td>\n      <td>0.005371</td>\n      <td>0.287767</td>\n      <td>0.294712</td>\n      <td>0.294712</td>\n      <td>3.496313</td>\n      <td>0.0</td>\n      <td>0.001315</td>\n      <td>11.0</td>\n      <td>3.014938</td>\n      <td>7.090273</td>\n    </tr>\n    <tr>\n      <th>3</th>\n      <td>10</td>\n      <td>21</td>\n      <td>18</td>\n      <td>2021-10-21 18:00:00+00:00</td>\n      <td>0</td>\n      <td>10-248-50-179</td>\n      <td>0</td>\n      <td>0.288256</td>\n      <td>2.277511e-06</td>\n      <td>3.352199</td>\n      <td>...</td>\n      <td>0.000634</td>\n      <td>0.287338</td>\n      <td>0.292678</td>\n      <td>0.292678</td>\n      <td>3.459071</td>\n      <td>0.0</td>\n      <td>0.003148</td>\n      <td>7.0</td>\n      <td>3.015100</td>\n      <td>7.090861</td>\n    </tr>\n    <tr>\n      <th>4</th>\n      <td>10</td>\n      <td>22</td>\n      <td>0</td>\n      <td>2021-10-22 00:00:00+00:00</td>\n      <td>0</td>\n      <td>10-248-50-179</td>\n      <td>0</td>\n      <td>0.287424</td>\n      <td>9.186740e-09</td>\n      <td>0.470930</td>\n      <td>...</td>\n      <td>0.000096</td>\n      <td>0.287310</td>\n      <td>0.287656</td>\n      <td>0.287656</td>\n      <td>3.449089</td>\n      <td>0.0</td>\n      <td>-0.000124</td>\n      <td>2.0</td>\n      <td>3.015113</td>\n      <td>7.090909</td>\n    </tr>\n  </tbody>\n</table>\n<p>5 rows × 24 columns</p>\n</div>"
     },
     "execution_count": 10,
     "metadata": {},
     "output_type": "execute_result"
    }
   ],
   "source": [
    "data = pd.read_pickle('data/feat_period_12_raw_data_marco.pkl')\n",
    "data.head()"
   ],
   "metadata": {
    "collapsed": false,
    "ExecuteTime": {
     "end_time": "2023-10-23T15:53:04.644528100Z",
     "start_time": "2023-10-23T15:53:01.250133900Z"
    }
   },
   "id": "e2616fc34635913c"
  },
  {
   "cell_type": "code",
   "execution_count": 11,
   "outputs": [
    {
     "data": {
      "text/plain": "               month            day           hour  idx_val_below_thr  \\\ncount  406391.000000  406391.000000  406391.000000      406391.000000   \nmean        9.368138      15.835848       8.991326           0.009661   \nstd         0.949172       8.880022       6.715129           0.265099   \nmin         8.000000       1.000000       0.000000           0.000000   \n25%         9.000000       8.000000       0.000000           0.000000   \n50%         9.000000      16.000000       6.000000           0.000000   \n75%        10.000000      24.000000      18.000000           0.000000   \nmax        11.000000      31.000000      18.000000          11.000000   \n\n               label              0             1              2  \\\ncount  406391.000000  406391.000000  4.063910e+05  325453.000000   \nmean        0.022978       0.538715  9.499368e-05       1.159589   \nstd         0.149833       0.273616  1.899454e-03       3.146718   \nmin         0.000000      -3.806427  0.000000e+00      -2.000000   \n25%         0.000000       0.309614  4.423940e-11      -1.233284   \n50%         0.000000       0.524983  2.263363e-08      -0.537927   \n75%         0.000000       0.731439  5.705431e-07       3.478851   \nmax         1.000000       0.999849  1.644159e-01       8.588822   \n\n                   3              4  ...              7              8  \\\ncount  325453.000000  406391.000000  ...  406391.000000  406391.000000   \nmean       -0.672925       0.001726  ...       0.002608       0.535306   \nstd         1.438058       0.008436  ...       0.015331       0.274603   \nmin        -3.015114       0.000000  ...       0.000000      -3.812311   \n25%        -1.832771       0.000006  ...       0.000004       0.305520   \n50%        -0.334852       0.000113  ...       0.000051       0.521092   \n75%         0.227345       0.000583  ...       0.000501       0.728116   \nmax         3.372245       0.391839  ...       0.868478       0.999849   \n\n                   9             10             11             12  \\\ncount  406391.000000  406391.000000  406391.000000  406391.000000   \nmean        0.541333       0.538810       6.466460       0.000440   \nstd         0.272800       0.273824       3.260074       0.054542   \nmin        -3.791979      -3.810686      -0.171362       0.000000   \n25%         0.313606       0.309573       3.714089       0.000000   \n50%         0.528171       0.525349       6.298389       0.000000   \n75%         0.733141       0.731510       8.776020       0.000000   \nmax         0.999849       0.999849      11.998193      11.000000   \n\n                  13             14             15             16  \ncount  406391.000000  406391.000000  406112.000000  406112.000000  \nmean       -0.007956       3.580953       3.012810       7.082214  \nstd         0.335466       3.082745       0.047547       0.173436  \nmin       -45.677123       0.000000      -0.351024      -2.000000  \n25%        -0.001203       1.000000       3.015110       7.090897  \n50%        -0.000077       2.000000       3.015113       7.090909  \n75%         0.000000       6.000000       3.015113       7.090909  \nmax         0.998358      11.000000       3.015113       7.090909  \n\n[8 rows x 22 columns]",
      "text/html": "<div>\n<style scoped>\n    .dataframe tbody tr th:only-of-type {\n        vertical-align: middle;\n    }\n\n    .dataframe tbody tr th {\n        vertical-align: top;\n    }\n\n    .dataframe thead th {\n        text-align: right;\n    }\n</style>\n<table border=\"1\" class=\"dataframe\">\n  <thead>\n    <tr style=\"text-align: right;\">\n      <th></th>\n      <th>month</th>\n      <th>day</th>\n      <th>hour</th>\n      <th>idx_val_below_thr</th>\n      <th>label</th>\n      <th>0</th>\n      <th>1</th>\n      <th>2</th>\n      <th>3</th>\n      <th>4</th>\n      <th>...</th>\n      <th>7</th>\n      <th>8</th>\n      <th>9</th>\n      <th>10</th>\n      <th>11</th>\n      <th>12</th>\n      <th>13</th>\n      <th>14</th>\n      <th>15</th>\n      <th>16</th>\n    </tr>\n  </thead>\n  <tbody>\n    <tr>\n      <th>count</th>\n      <td>406391.000000</td>\n      <td>406391.000000</td>\n      <td>406391.000000</td>\n      <td>406391.000000</td>\n      <td>406391.000000</td>\n      <td>406391.000000</td>\n      <td>4.063910e+05</td>\n      <td>325453.000000</td>\n      <td>325453.000000</td>\n      <td>406391.000000</td>\n      <td>...</td>\n      <td>406391.000000</td>\n      <td>406391.000000</td>\n      <td>406391.000000</td>\n      <td>406391.000000</td>\n      <td>406391.000000</td>\n      <td>406391.000000</td>\n      <td>406391.000000</td>\n      <td>406391.000000</td>\n      <td>406112.000000</td>\n      <td>406112.000000</td>\n    </tr>\n    <tr>\n      <th>mean</th>\n      <td>9.368138</td>\n      <td>15.835848</td>\n      <td>8.991326</td>\n      <td>0.009661</td>\n      <td>0.022978</td>\n      <td>0.538715</td>\n      <td>9.499368e-05</td>\n      <td>1.159589</td>\n      <td>-0.672925</td>\n      <td>0.001726</td>\n      <td>...</td>\n      <td>0.002608</td>\n      <td>0.535306</td>\n      <td>0.541333</td>\n      <td>0.538810</td>\n      <td>6.466460</td>\n      <td>0.000440</td>\n      <td>-0.007956</td>\n      <td>3.580953</td>\n      <td>3.012810</td>\n      <td>7.082214</td>\n    </tr>\n    <tr>\n      <th>std</th>\n      <td>0.949172</td>\n      <td>8.880022</td>\n      <td>6.715129</td>\n      <td>0.265099</td>\n      <td>0.149833</td>\n      <td>0.273616</td>\n      <td>1.899454e-03</td>\n      <td>3.146718</td>\n      <td>1.438058</td>\n      <td>0.008436</td>\n      <td>...</td>\n      <td>0.015331</td>\n      <td>0.274603</td>\n      <td>0.272800</td>\n      <td>0.273824</td>\n      <td>3.260074</td>\n      <td>0.054542</td>\n      <td>0.335466</td>\n      <td>3.082745</td>\n      <td>0.047547</td>\n      <td>0.173436</td>\n    </tr>\n    <tr>\n      <th>min</th>\n      <td>8.000000</td>\n      <td>1.000000</td>\n      <td>0.000000</td>\n      <td>0.000000</td>\n      <td>0.000000</td>\n      <td>-3.806427</td>\n      <td>0.000000e+00</td>\n      <td>-2.000000</td>\n      <td>-3.015114</td>\n      <td>0.000000</td>\n      <td>...</td>\n      <td>0.000000</td>\n      <td>-3.812311</td>\n      <td>-3.791979</td>\n      <td>-3.810686</td>\n      <td>-0.171362</td>\n      <td>0.000000</td>\n      <td>-45.677123</td>\n      <td>0.000000</td>\n      <td>-0.351024</td>\n      <td>-2.000000</td>\n    </tr>\n    <tr>\n      <th>25%</th>\n      <td>9.000000</td>\n      <td>8.000000</td>\n      <td>0.000000</td>\n      <td>0.000000</td>\n      <td>0.000000</td>\n      <td>0.309614</td>\n      <td>4.423940e-11</td>\n      <td>-1.233284</td>\n      <td>-1.832771</td>\n      <td>0.000006</td>\n      <td>...</td>\n      <td>0.000004</td>\n      <td>0.305520</td>\n      <td>0.313606</td>\n      <td>0.309573</td>\n      <td>3.714089</td>\n      <td>0.000000</td>\n      <td>-0.001203</td>\n      <td>1.000000</td>\n      <td>3.015110</td>\n      <td>7.090897</td>\n    </tr>\n    <tr>\n      <th>50%</th>\n      <td>9.000000</td>\n      <td>16.000000</td>\n      <td>6.000000</td>\n      <td>0.000000</td>\n      <td>0.000000</td>\n      <td>0.524983</td>\n      <td>2.263363e-08</td>\n      <td>-0.537927</td>\n      <td>-0.334852</td>\n      <td>0.000113</td>\n      <td>...</td>\n      <td>0.000051</td>\n      <td>0.521092</td>\n      <td>0.528171</td>\n      <td>0.525349</td>\n      <td>6.298389</td>\n      <td>0.000000</td>\n      <td>-0.000077</td>\n      <td>2.000000</td>\n      <td>3.015113</td>\n      <td>7.090909</td>\n    </tr>\n    <tr>\n      <th>75%</th>\n      <td>10.000000</td>\n      <td>24.000000</td>\n      <td>18.000000</td>\n      <td>0.000000</td>\n      <td>0.000000</td>\n      <td>0.731439</td>\n      <td>5.705431e-07</td>\n      <td>3.478851</td>\n      <td>0.227345</td>\n      <td>0.000583</td>\n      <td>...</td>\n      <td>0.000501</td>\n      <td>0.728116</td>\n      <td>0.733141</td>\n      <td>0.731510</td>\n      <td>8.776020</td>\n      <td>0.000000</td>\n      <td>0.000000</td>\n      <td>6.000000</td>\n      <td>3.015113</td>\n      <td>7.090909</td>\n    </tr>\n    <tr>\n      <th>max</th>\n      <td>11.000000</td>\n      <td>31.000000</td>\n      <td>18.000000</td>\n      <td>11.000000</td>\n      <td>1.000000</td>\n      <td>0.999849</td>\n      <td>1.644159e-01</td>\n      <td>8.588822</td>\n      <td>3.372245</td>\n      <td>0.391839</td>\n      <td>...</td>\n      <td>0.868478</td>\n      <td>0.999849</td>\n      <td>0.999849</td>\n      <td>0.999849</td>\n      <td>11.998193</td>\n      <td>11.000000</td>\n      <td>0.998358</td>\n      <td>11.000000</td>\n      <td>3.015113</td>\n      <td>7.090909</td>\n    </tr>\n  </tbody>\n</table>\n<p>8 rows × 22 columns</p>\n</div>"
     },
     "execution_count": 11,
     "metadata": {},
     "output_type": "execute_result"
    }
   ],
   "source": [
    "data.describe()"
   ],
   "metadata": {
    "collapsed": false,
    "ExecuteTime": {
     "end_time": "2023-10-23T15:53:05.129421300Z",
     "start_time": "2023-10-23T15:53:04.632348800Z"
    }
   },
   "id": "7a3b7069d202815d"
  },
  {
   "cell_type": "code",
   "execution_count": 12,
   "outputs": [
    {
     "data": {
      "text/plain": "   month  day  hour              ref_timestamp  idx_val_below_thr  \\\n0     10   21     0  2021-10-21 00:00:00+00:00                  0   \n1     10   21     6  2021-10-21 06:00:00+00:00                  0   \n2     10   21    12  2021-10-21 12:00:00+00:00                  0   \n3     10   21    18  2021-10-21 18:00:00+00:00                  0   \n4     10   22     0  2021-10-22 00:00:00+00:00                  0   \n\n          metric  label         0             1         2  ...         7  \\\n0  10-248-50-179      0  0.295616  4.740116e-09 -0.885352  ...  0.000064   \n1  10-248-50-179      0  0.294538  1.182971e-06 -1.603186  ...  0.002059   \n2  10-248-50-179      0  0.291359  6.987567e-06 -1.633150  ...  0.005371   \n3  10-248-50-179      0  0.288256  2.277511e-06  3.352199  ...  0.000634   \n4  10-248-50-179      0  0.287424  9.186740e-09  0.470930  ...  0.000096   \n\n          8         9        10        11   12        13    14        15  \\\n0  0.295521  0.295727  0.295602  1.478080  0.0 -0.000169   1.0  1.500000   \n1  0.292865  0.295727  0.295602  3.239918  0.0  0.000601   1.0  2.846018   \n2  0.287767  0.294712  0.294712  3.496313  0.0  0.001315  11.0  3.014938   \n3  0.287338  0.292678  0.292678  3.459071  0.0  0.003148   7.0  3.015100   \n4  0.287310  0.287656  0.287656  3.449089  0.0 -0.000124   2.0  3.015113   \n\n         16  \n0  0.250000  \n1  6.099894  \n2  7.090273  \n3  7.090861  \n4  7.090909  \n\n[5 rows x 24 columns]",
      "text/html": "<div>\n<style scoped>\n    .dataframe tbody tr th:only-of-type {\n        vertical-align: middle;\n    }\n\n    .dataframe tbody tr th {\n        vertical-align: top;\n    }\n\n    .dataframe thead th {\n        text-align: right;\n    }\n</style>\n<table border=\"1\" class=\"dataframe\">\n  <thead>\n    <tr style=\"text-align: right;\">\n      <th></th>\n      <th>month</th>\n      <th>day</th>\n      <th>hour</th>\n      <th>ref_timestamp</th>\n      <th>idx_val_below_thr</th>\n      <th>metric</th>\n      <th>label</th>\n      <th>0</th>\n      <th>1</th>\n      <th>2</th>\n      <th>...</th>\n      <th>7</th>\n      <th>8</th>\n      <th>9</th>\n      <th>10</th>\n      <th>11</th>\n      <th>12</th>\n      <th>13</th>\n      <th>14</th>\n      <th>15</th>\n      <th>16</th>\n    </tr>\n  </thead>\n  <tbody>\n    <tr>\n      <th>0</th>\n      <td>10</td>\n      <td>21</td>\n      <td>0</td>\n      <td>2021-10-21 00:00:00+00:00</td>\n      <td>0</td>\n      <td>10-248-50-179</td>\n      <td>0</td>\n      <td>0.295616</td>\n      <td>4.740116e-09</td>\n      <td>-0.885352</td>\n      <td>...</td>\n      <td>0.000064</td>\n      <td>0.295521</td>\n      <td>0.295727</td>\n      <td>0.295602</td>\n      <td>1.478080</td>\n      <td>0.0</td>\n      <td>-0.000169</td>\n      <td>1.0</td>\n      <td>1.500000</td>\n      <td>0.250000</td>\n    </tr>\n    <tr>\n      <th>1</th>\n      <td>10</td>\n      <td>21</td>\n      <td>6</td>\n      <td>2021-10-21 06:00:00+00:00</td>\n      <td>0</td>\n      <td>10-248-50-179</td>\n      <td>0</td>\n      <td>0.294538</td>\n      <td>1.182971e-06</td>\n      <td>-1.603186</td>\n      <td>...</td>\n      <td>0.002059</td>\n      <td>0.292865</td>\n      <td>0.295727</td>\n      <td>0.295602</td>\n      <td>3.239918</td>\n      <td>0.0</td>\n      <td>0.000601</td>\n      <td>1.0</td>\n      <td>2.846018</td>\n      <td>6.099894</td>\n    </tr>\n    <tr>\n      <th>2</th>\n      <td>10</td>\n      <td>21</td>\n      <td>12</td>\n      <td>2021-10-21 12:00:00+00:00</td>\n      <td>0</td>\n      <td>10-248-50-179</td>\n      <td>0</td>\n      <td>0.291359</td>\n      <td>6.987567e-06</td>\n      <td>-1.633150</td>\n      <td>...</td>\n      <td>0.005371</td>\n      <td>0.287767</td>\n      <td>0.294712</td>\n      <td>0.294712</td>\n      <td>3.496313</td>\n      <td>0.0</td>\n      <td>0.001315</td>\n      <td>11.0</td>\n      <td>3.014938</td>\n      <td>7.090273</td>\n    </tr>\n    <tr>\n      <th>3</th>\n      <td>10</td>\n      <td>21</td>\n      <td>18</td>\n      <td>2021-10-21 18:00:00+00:00</td>\n      <td>0</td>\n      <td>10-248-50-179</td>\n      <td>0</td>\n      <td>0.288256</td>\n      <td>2.277511e-06</td>\n      <td>3.352199</td>\n      <td>...</td>\n      <td>0.000634</td>\n      <td>0.287338</td>\n      <td>0.292678</td>\n      <td>0.292678</td>\n      <td>3.459071</td>\n      <td>0.0</td>\n      <td>0.003148</td>\n      <td>7.0</td>\n      <td>3.015100</td>\n      <td>7.090861</td>\n    </tr>\n    <tr>\n      <th>4</th>\n      <td>10</td>\n      <td>22</td>\n      <td>0</td>\n      <td>2021-10-22 00:00:00+00:00</td>\n      <td>0</td>\n      <td>10-248-50-179</td>\n      <td>0</td>\n      <td>0.287424</td>\n      <td>9.186740e-09</td>\n      <td>0.470930</td>\n      <td>...</td>\n      <td>0.000096</td>\n      <td>0.287310</td>\n      <td>0.287656</td>\n      <td>0.287656</td>\n      <td>3.449089</td>\n      <td>0.0</td>\n      <td>-0.000124</td>\n      <td>2.0</td>\n      <td>3.015113</td>\n      <td>7.090909</td>\n    </tr>\n  </tbody>\n</table>\n<p>5 rows × 24 columns</p>\n</div>"
     },
     "execution_count": 12,
     "metadata": {},
     "output_type": "execute_result"
    }
   ],
   "source": [
    "data.loc[:, 'ref_timestamp'] = pd.to_datetime(data['ref_timestamp'], utc=True)\n",
    "data['month'] = data['ref_timestamp'].apply(lambda x: x.month)\n",
    "data['day'] = data['ref_timestamp'].apply(lambda x: x.day)\n",
    "data['hour'] = data['ref_timestamp'].apply(lambda x: x.hour)\n",
    "data = data[['month', 'day', 'hour', 'ref_timestamp', 'idx_val_below_thr', 'metric', 'label', 0, 1, 2, 3, 4, 5, 6, 7, 8, 9, 10, 11, 12, 13, 14, 15, 16]]\n",
    "\n",
    "data.head()"
   ],
   "metadata": {
    "collapsed": false,
    "ExecuteTime": {
     "end_time": "2023-10-23T15:53:08.622412800Z",
     "start_time": "2023-10-23T15:53:05.139733300Z"
    }
   },
   "id": "2ba7dc89396a43ad"
  },
  {
   "cell_type": "code",
   "execution_count": 16,
   "outputs": [
    {
     "data": {
      "text/plain": "        label         0             1         2         3         4         5  \\\n0           0  0.295616  4.740116e-09 -0.885352  0.303047  0.000057  0.000031   \n1           0  0.294538  1.182971e-06 -1.603186 -0.255528  0.001012  0.000328   \n2           0  0.291359  6.987567e-06 -1.633150 -0.328733  0.002500  0.000763   \n3           0  0.288256  2.277511e-06  3.352199  2.143158  0.001034  0.000436   \n4           0  0.287424  9.186740e-09  0.470930  1.176186  0.000076  0.000028   \n...       ...       ...           ...       ...       ...       ...       ...   \n406386      0  0.942558  1.163001e-06  2.106049 -1.959476  0.000786  0.000311   \n406387      0  0.943009  4.393459e-10 -1.298360 -0.233485  0.000019  0.000006   \n406388      0  0.942976  2.570209e-10 -1.068982  0.362944  0.000014  0.000005   \n406389      0  0.942942  5.375984e-10 -1.666430 -0.237481  0.000022  0.000007   \n406390      0  0.942879  1.808016e-09 -1.692294  0.101806  0.000041  0.000012   \n\n               6         7         8         9        10         11   12  \\\n0       0.661018  0.000064  0.295521  0.295727  0.295602   1.478080  0.0   \n1       0.976879  0.002059  0.292865  0.295727  0.295602   3.239918  0.0   \n2       1.009340  0.005371  0.287767  0.294712  0.294712   3.496313  0.0   \n3       0.998562  0.000634  0.287338  0.292678  0.292678   3.459071  0.0   \n4       0.995666  0.000096  0.287310  0.287656  0.287656   3.449089  0.0   \n...          ...       ...       ...       ...       ...        ...  ...   \n406386  3.265117  0.000013  0.939647  0.943039  0.939647  11.310691  0.0   \n406387  3.266678  0.000034  0.942971  0.943036  0.943020  11.316105  0.0   \n406388  3.266565  0.000024  0.942952  0.943007  0.943007  11.315713  0.0   \n406389  3.266445  0.000047  0.942908  0.942970  0.942965  11.315298  0.0   \n406390  3.266230  0.000075  0.942825  0.942947  0.942947  11.314552  0.0   \n\n              13    14        15        16  \n0      -0.000169   1.0  1.500000  0.250000  \n1       0.000601   1.0  2.846018  6.099894  \n2       0.001315  11.0  3.014938  7.090273  \n3       0.003148   7.0  3.015100  7.090861  \n4      -0.000124   2.0  3.015113  7.090909  \n...          ...   ...       ...       ...  \n406386 -0.005339   1.0  3.015112  7.090905  \n406387 -0.000013  10.0  3.015113  7.090909  \n406388  0.000012   2.0  3.015113  7.090909  \n406389  0.000010   3.0  3.015113  7.090909  \n406390  0.000031   4.0  3.015113  7.090909  \n\n[406391 rows x 18 columns]",
      "text/html": "<div>\n<style scoped>\n    .dataframe tbody tr th:only-of-type {\n        vertical-align: middle;\n    }\n\n    .dataframe tbody tr th {\n        vertical-align: top;\n    }\n\n    .dataframe thead th {\n        text-align: right;\n    }\n</style>\n<table border=\"1\" class=\"dataframe\">\n  <thead>\n    <tr style=\"text-align: right;\">\n      <th></th>\n      <th>label</th>\n      <th>0</th>\n      <th>1</th>\n      <th>2</th>\n      <th>3</th>\n      <th>4</th>\n      <th>5</th>\n      <th>6</th>\n      <th>7</th>\n      <th>8</th>\n      <th>9</th>\n      <th>10</th>\n      <th>11</th>\n      <th>12</th>\n      <th>13</th>\n      <th>14</th>\n      <th>15</th>\n      <th>16</th>\n    </tr>\n  </thead>\n  <tbody>\n    <tr>\n      <th>0</th>\n      <td>0</td>\n      <td>0.295616</td>\n      <td>4.740116e-09</td>\n      <td>-0.885352</td>\n      <td>0.303047</td>\n      <td>0.000057</td>\n      <td>0.000031</td>\n      <td>0.661018</td>\n      <td>0.000064</td>\n      <td>0.295521</td>\n      <td>0.295727</td>\n      <td>0.295602</td>\n      <td>1.478080</td>\n      <td>0.0</td>\n      <td>-0.000169</td>\n      <td>1.0</td>\n      <td>1.500000</td>\n      <td>0.250000</td>\n    </tr>\n    <tr>\n      <th>1</th>\n      <td>0</td>\n      <td>0.294538</td>\n      <td>1.182971e-06</td>\n      <td>-1.603186</td>\n      <td>-0.255528</td>\n      <td>0.001012</td>\n      <td>0.000328</td>\n      <td>0.976879</td>\n      <td>0.002059</td>\n      <td>0.292865</td>\n      <td>0.295727</td>\n      <td>0.295602</td>\n      <td>3.239918</td>\n      <td>0.0</td>\n      <td>0.000601</td>\n      <td>1.0</td>\n      <td>2.846018</td>\n      <td>6.099894</td>\n    </tr>\n    <tr>\n      <th>2</th>\n      <td>0</td>\n      <td>0.291359</td>\n      <td>6.987567e-06</td>\n      <td>-1.633150</td>\n      <td>-0.328733</td>\n      <td>0.002500</td>\n      <td>0.000763</td>\n      <td>1.009340</td>\n      <td>0.005371</td>\n      <td>0.287767</td>\n      <td>0.294712</td>\n      <td>0.294712</td>\n      <td>3.496313</td>\n      <td>0.0</td>\n      <td>0.001315</td>\n      <td>11.0</td>\n      <td>3.014938</td>\n      <td>7.090273</td>\n    </tr>\n    <tr>\n      <th>3</th>\n      <td>0</td>\n      <td>0.288256</td>\n      <td>2.277511e-06</td>\n      <td>3.352199</td>\n      <td>2.143158</td>\n      <td>0.001034</td>\n      <td>0.000436</td>\n      <td>0.998562</td>\n      <td>0.000634</td>\n      <td>0.287338</td>\n      <td>0.292678</td>\n      <td>0.292678</td>\n      <td>3.459071</td>\n      <td>0.0</td>\n      <td>0.003148</td>\n      <td>7.0</td>\n      <td>3.015100</td>\n      <td>7.090861</td>\n    </tr>\n    <tr>\n      <th>4</th>\n      <td>0</td>\n      <td>0.287424</td>\n      <td>9.186740e-09</td>\n      <td>0.470930</td>\n      <td>1.176186</td>\n      <td>0.000076</td>\n      <td>0.000028</td>\n      <td>0.995666</td>\n      <td>0.000096</td>\n      <td>0.287310</td>\n      <td>0.287656</td>\n      <td>0.287656</td>\n      <td>3.449089</td>\n      <td>0.0</td>\n      <td>-0.000124</td>\n      <td>2.0</td>\n      <td>3.015113</td>\n      <td>7.090909</td>\n    </tr>\n    <tr>\n      <th>...</th>\n      <td>...</td>\n      <td>...</td>\n      <td>...</td>\n      <td>...</td>\n      <td>...</td>\n      <td>...</td>\n      <td>...</td>\n      <td>...</td>\n      <td>...</td>\n      <td>...</td>\n      <td>...</td>\n      <td>...</td>\n      <td>...</td>\n      <td>...</td>\n      <td>...</td>\n      <td>...</td>\n      <td>...</td>\n      <td>...</td>\n    </tr>\n    <tr>\n      <th>406386</th>\n      <td>0</td>\n      <td>0.942558</td>\n      <td>1.163001e-06</td>\n      <td>2.106049</td>\n      <td>-1.959476</td>\n      <td>0.000786</td>\n      <td>0.000311</td>\n      <td>3.265117</td>\n      <td>0.000013</td>\n      <td>0.939647</td>\n      <td>0.943039</td>\n      <td>0.939647</td>\n      <td>11.310691</td>\n      <td>0.0</td>\n      <td>-0.005339</td>\n      <td>1.0</td>\n      <td>3.015112</td>\n      <td>7.090905</td>\n    </tr>\n    <tr>\n      <th>406387</th>\n      <td>0</td>\n      <td>0.943009</td>\n      <td>4.393459e-10</td>\n      <td>-1.298360</td>\n      <td>-0.233485</td>\n      <td>0.000019</td>\n      <td>0.000006</td>\n      <td>3.266678</td>\n      <td>0.000034</td>\n      <td>0.942971</td>\n      <td>0.943036</td>\n      <td>0.943020</td>\n      <td>11.316105</td>\n      <td>0.0</td>\n      <td>-0.000013</td>\n      <td>10.0</td>\n      <td>3.015113</td>\n      <td>7.090909</td>\n    </tr>\n    <tr>\n      <th>406388</th>\n      <td>0</td>\n      <td>0.942976</td>\n      <td>2.570209e-10</td>\n      <td>-1.068982</td>\n      <td>0.362944</td>\n      <td>0.000014</td>\n      <td>0.000005</td>\n      <td>3.266565</td>\n      <td>0.000024</td>\n      <td>0.942952</td>\n      <td>0.943007</td>\n      <td>0.943007</td>\n      <td>11.315713</td>\n      <td>0.0</td>\n      <td>0.000012</td>\n      <td>2.0</td>\n      <td>3.015113</td>\n      <td>7.090909</td>\n    </tr>\n    <tr>\n      <th>406389</th>\n      <td>0</td>\n      <td>0.942942</td>\n      <td>5.375984e-10</td>\n      <td>-1.666430</td>\n      <td>-0.237481</td>\n      <td>0.000022</td>\n      <td>0.000007</td>\n      <td>3.266445</td>\n      <td>0.000047</td>\n      <td>0.942908</td>\n      <td>0.942970</td>\n      <td>0.942965</td>\n      <td>11.315298</td>\n      <td>0.0</td>\n      <td>0.000010</td>\n      <td>3.0</td>\n      <td>3.015113</td>\n      <td>7.090909</td>\n    </tr>\n    <tr>\n      <th>406390</th>\n      <td>0</td>\n      <td>0.942879</td>\n      <td>1.808016e-09</td>\n      <td>-1.692294</td>\n      <td>0.101806</td>\n      <td>0.000041</td>\n      <td>0.000012</td>\n      <td>3.266230</td>\n      <td>0.000075</td>\n      <td>0.942825</td>\n      <td>0.942947</td>\n      <td>0.942947</td>\n      <td>11.314552</td>\n      <td>0.0</td>\n      <td>0.000031</td>\n      <td>4.0</td>\n      <td>3.015113</td>\n      <td>7.090909</td>\n    </tr>\n  </tbody>\n</table>\n<p>406391 rows × 18 columns</p>\n</div>"
     },
     "execution_count": 16,
     "metadata": {},
     "output_type": "execute_result"
    }
   ],
   "source": [
    "data.iloc[:,6:]"
   ],
   "metadata": {
    "collapsed": false,
    "ExecuteTime": {
     "end_time": "2023-10-23T15:55:08.397641500Z",
     "start_time": "2023-10-23T15:55:08.354946200Z"
    }
   },
   "id": "f3327e827eafae16"
  },
  {
   "cell_type": "code",
   "execution_count": 17,
   "outputs": [
    {
     "data": {
      "text/plain": "          label\nlabel  1.000000\n0     -0.266119\n1      0.019309\n2     -0.035771\n3      0.052126\n4      0.032012\n5      0.032981\n6     -0.254156\n7      0.028682\n8     -0.266365\n9     -0.264724\n10    -0.265253\n11    -0.261627\n12     0.052660\n13    -0.062375\n14     0.002526\n15    -0.093995\n16    -0.090974",
      "text/html": "<div>\n<style scoped>\n    .dataframe tbody tr th:only-of-type {\n        vertical-align: middle;\n    }\n\n    .dataframe tbody tr th {\n        vertical-align: top;\n    }\n\n    .dataframe thead th {\n        text-align: right;\n    }\n</style>\n<table border=\"1\" class=\"dataframe\">\n  <thead>\n    <tr style=\"text-align: right;\">\n      <th></th>\n      <th>label</th>\n    </tr>\n  </thead>\n  <tbody>\n    <tr>\n      <th>label</th>\n      <td>1.000000</td>\n    </tr>\n    <tr>\n      <th>0</th>\n      <td>-0.266119</td>\n    </tr>\n    <tr>\n      <th>1</th>\n      <td>0.019309</td>\n    </tr>\n    <tr>\n      <th>2</th>\n      <td>-0.035771</td>\n    </tr>\n    <tr>\n      <th>3</th>\n      <td>0.052126</td>\n    </tr>\n    <tr>\n      <th>4</th>\n      <td>0.032012</td>\n    </tr>\n    <tr>\n      <th>5</th>\n      <td>0.032981</td>\n    </tr>\n    <tr>\n      <th>6</th>\n      <td>-0.254156</td>\n    </tr>\n    <tr>\n      <th>7</th>\n      <td>0.028682</td>\n    </tr>\n    <tr>\n      <th>8</th>\n      <td>-0.266365</td>\n    </tr>\n    <tr>\n      <th>9</th>\n      <td>-0.264724</td>\n    </tr>\n    <tr>\n      <th>10</th>\n      <td>-0.265253</td>\n    </tr>\n    <tr>\n      <th>11</th>\n      <td>-0.261627</td>\n    </tr>\n    <tr>\n      <th>12</th>\n      <td>0.052660</td>\n    </tr>\n    <tr>\n      <th>13</th>\n      <td>-0.062375</td>\n    </tr>\n    <tr>\n      <th>14</th>\n      <td>0.002526</td>\n    </tr>\n    <tr>\n      <th>15</th>\n      <td>-0.093995</td>\n    </tr>\n    <tr>\n      <th>16</th>\n      <td>-0.090974</td>\n    </tr>\n  </tbody>\n</table>\n</div>"
     },
     "execution_count": 17,
     "metadata": {},
     "output_type": "execute_result"
    }
   ],
   "source": [
    "correlation = data.iloc[:,6:].corr()[['label']]\n",
    "correlation"
   ],
   "metadata": {
    "collapsed": false,
    "ExecuteTime": {
     "end_time": "2023-10-23T15:55:23.375084100Z",
     "start_time": "2023-10-23T15:55:23.111437300Z"
    }
   },
   "id": "e1982e44b07d512a"
  },
  {
   "cell_type": "code",
   "execution_count": 25,
   "outputs": [
    {
     "name": "stdout",
     "output_type": "stream",
     "text": [
      "          label\n",
      "label  1.000000\n",
      "0     -0.266119\n",
      "1      0.019309\n",
      "2     -0.035771\n",
      "3      0.052126\n",
      "4      0.032012\n",
      "5      0.032981\n",
      "6     -0.254156\n",
      "7      0.028682\n",
      "8     -0.266365\n",
      "9     -0.264724\n",
      "10    -0.265253\n",
      "11    -0.261627\n",
      "12     0.052660\n",
      "13    -0.062375\n",
      "14     0.002526\n",
      "15    -0.093995\n",
      "16    -0.090974\n"
     ]
    },
    {
     "data": {
      "text/plain": "<Figure size 800x600 with 0 Axes>"
     },
     "metadata": {},
     "output_type": "display_data"
    },
    {
     "data": {
      "text/plain": "<Figure size 800x600 with 2 Axes>",
      "image/png": "[encoded data removed]"
     },
     "metadata": {},
     "output_type": "display_data"
    }
   ],
   "source": [
    "\n",
    "import matplotlib.pyplot as plt\n",
    "plt.figure(figsize=(8, 6))\n",
    "correlation = data.iloc[:,6:].corr()[['label']]\n",
    "print(correlation)\n",
    "\n",
    "# Crea una heatmap utilizzando Matplotlib\n",
    "plt.figure(figsize=(8, 6))\n",
    "plt.imshow([correlation.values], cmap='coolwarm', aspect='auto')\n",
    "plt.xticks(range(len(correlation)), correlation.index, rotation=45)\n",
    "plt.yticks([0], ['label'])\n",
    "plt.colorbar(label='Correlation')\n",
    "plt.title(f'Correlation Heatmap for label')\n",
    "plt.show()"
   ],
   "metadata": {
    "collapsed": false,
    "ExecuteTime": {
     "end_time": "2023-10-23T16:05:52.720597700Z",
     "start_time": "2023-10-23T16:05:52.300231Z"
    }
   },
   "id": "781bb538a169f9cc"
  },
  {
   "cell_type": "code",
   "execution_count": null,
   "outputs": [],
   "source": [],
   "metadata": {
    "collapsed": false
   },
   "id": "964ef733269f1399"
  },
  {
   "cell_type": "code",
   "execution_count": null,
   "outputs": [],
   "source": [],
   "metadata": {
    "collapsed": false
   },
   "id": "dc89df803cb57d66"
  },
  {
   "cell_type": "code",
   "execution_count": 5,
   "outputs": [],
   "source": [
    "import os"
   ],
   "metadata": {
    "collapsed": false,
    "ExecuteTime": {
     "end_time": "2023-10-23T09:13:35.918392200Z",
     "start_time": "2023-10-23T09:13:35.896277500Z"
    }
   },
   "id": "4dc4bd7ff2f1887"
  },
  {
   "cell_type": "code",
   "execution_count": 6,
   "outputs": [
    {
     "data": {
      "text/plain": "'C:\\\\Users\\\\damatov\\\\OneDrive - SeSa S.p.A\\\\Documenti\\\\Lavoro\\\\AI_var_group\\\\StefanoML\\\\analysis'"
     },
     "execution_count": 6,
     "metadata": {},
     "output_type": "execute_result"
    }
   ],
   "source": [
    "os.getcwd()"
   ],
   "metadata": {
    "collapsed": false,
    "ExecuteTime": {
     "end_time": "2023-10-23T09:13:36.224886800Z",
     "start_time": "2023-10-23T09:13:36.203688800Z"
    }
   },
   "id": "100c5fc3ea32078f"
  },
  {
   "cell_type": "code",
   "execution_count": 7,
   "outputs": [],
   "source": [
    "data.to_pickle('data/feat_period_12_raw_data_marco.pkl')"
   ],
   "metadata": {
    "collapsed": false,
    "ExecuteTime": {
     "end_time": "2023-10-23T09:13:38.802171300Z",
     "start_time": "2023-10-23T09:13:38.042697400Z"
    }
   },
   "id": "4b26c93424feeaff"
  },
  {
   "cell_type": "code",
   "execution_count": 8,
   "outputs": [
    {
     "data": {
      "text/plain": "        month  day  hour              ref_timestamp  idx_val_below_thr  \\\n0          10   21     0  2021-10-21 00:00:00+00:00                  0   \n1          10   21     6  2021-10-21 06:00:00+00:00                  0   \n2          10   21    12  2021-10-21 12:00:00+00:00                  0   \n3          10   21    18  2021-10-21 18:00:00+00:00                  0   \n4          10   22     0  2021-10-22 00:00:00+00:00                  0   \n...       ...  ...   ...                        ...                ...   \n406386     11   10     6  2021-11-10 06:00:00+00:00                  0   \n406387     11   10    12  2021-11-10 12:00:00+00:00                  0   \n406388     11   10    18  2021-11-10 18:00:00+00:00                  0   \n406389     11   11     0  2021-11-11 00:00:00+00:00                  0   \n406390     11   11     6  2021-11-11 06:00:00+00:00                  0   \n\n                  metric  label         0             1         2  ...  \\\n0          10-248-50-179      0  0.295616  4.740116e-09 -0.885352  ...   \n1          10-248-50-179      0  0.294538  1.182971e-06 -1.603186  ...   \n2          10-248-50-179      0  0.291359  6.987567e-06 -1.633150  ...   \n3          10-248-50-179      0  0.288256  2.277511e-06  3.352199  ...   \n4          10-248-50-179      0  0.287424  9.186740e-09  0.470930  ...   \n...                  ...    ...       ...           ...       ...  ...   \n406386  zabbixproxyaws03      0  0.942558  1.163001e-06  2.106049  ...   \n406387  zabbixproxyaws03      0  0.943009  4.393459e-10 -1.298360  ...   \n406388  zabbixproxyaws03      0  0.942976  2.570209e-10 -1.068982  ...   \n406389  zabbixproxyaws03      0  0.942942  5.375984e-10 -1.666430  ...   \n406390  zabbixproxyaws03      0  0.942879  1.808016e-09 -1.692294  ...   \n\n               7         8         9        10         11   12        13  \\\n0       0.000064  0.295521  0.295727  0.295602   1.478080  0.0 -0.000169   \n1       0.002059  0.292865  0.295727  0.295602   3.239918  0.0  0.000601   \n2       0.005371  0.287767  0.294712  0.294712   3.496313  0.0  0.001315   \n3       0.000634  0.287338  0.292678  0.292678   3.459071  0.0  0.003148   \n4       0.000096  0.287310  0.287656  0.287656   3.449089  0.0 -0.000124   \n...          ...       ...       ...       ...        ...  ...       ...   \n406386  0.000013  0.939647  0.943039  0.939647  11.310691  0.0 -0.005339   \n406387  0.000034  0.942971  0.943036  0.943020  11.316105  0.0 -0.000013   \n406388  0.000024  0.942952  0.943007  0.943007  11.315713  0.0  0.000012   \n406389  0.000047  0.942908  0.942970  0.942965  11.315298  0.0  0.000010   \n406390  0.000075  0.942825  0.942947  0.942947  11.314552  0.0  0.000031   \n\n          14        15        16  \n0        1.0  1.500000  0.250000  \n1        1.0  2.846018  6.099894  \n2       11.0  3.014938  7.090273  \n3        7.0  3.015100  7.090861  \n4        2.0  3.015113  7.090909  \n...      ...       ...       ...  \n406386   1.0  3.015112  7.090905  \n406387  10.0  3.015113  7.090909  \n406388   2.0  3.015113  7.090909  \n406389   3.0  3.015113  7.090909  \n406390   4.0  3.015113  7.090909  \n\n[406391 rows x 24 columns]",
      "text/html": "<div>\n<style scoped>\n    .dataframe tbody tr th:only-of-type {\n        vertical-align: middle;\n    }\n\n    .dataframe tbody tr th {\n        vertical-align: top;\n    }\n\n    .dataframe thead th {\n        text-align: right;\n    }\n</style>\n<table border=\"1\" class=\"dataframe\">\n  <thead>\n    <tr style=\"text-align: right;\">\n      <th></th>\n      <th>month</th>\n      <th>day</th>\n      <th>hour</th>\n      <th>ref_timestamp</th>\n      <th>idx_val_below_thr</th>\n      <th>metric</th>\n      <th>label</th>\n      <th>0</th>\n      <th>1</th>\n      <th>2</th>\n      <th>...</th>\n      <th>7</th>\n      <th>8</th>\n      <th>9</th>\n      <th>10</th>\n      <th>11</th>\n      <th>12</th>\n      <th>13</th>\n      <th>14</th>\n      <th>15</th>\n      <th>16</th>\n    </tr>\n  </thead>\n  <tbody>\n    <tr>\n      <th>0</th>\n      <td>10</td>\n      <td>21</td>\n      <td>0</td>\n      <td>2021-10-21 00:00:00+00:00</td>\n      <td>0</td>\n      <td>10-248-50-179</td>\n      <td>0</td>\n      <td>0.295616</td>\n      <td>4.740116e-09</td>\n      <td>-0.885352</td>\n      <td>...</td>\n      <td>0.000064</td>\n      <td>0.295521</td>\n      <td>0.295727</td>\n      <td>0.295602</td>\n      <td>1.478080</td>\n      <td>0.0</td>\n      <td>-0.000169</td>\n      <td>1.0</td>\n      <td>1.500000</td>\n      <td>0.250000</td>\n    </tr>\n    <tr>\n      <th>1</th>\n      <td>10</td>\n      <td>21</td>\n      <td>6</td>\n      <td>2021-10-21 06:00:00+00:00</td>\n      <td>0</td>\n      <td>10-248-50-179</td>\n      <td>0</td>\n      <td>0.294538</td>\n      <td>1.182971e-06</td>\n      <td>-1.603186</td>\n      <td>...</td>\n      <td>0.002059</td>\n      <td>0.292865</td>\n      <td>0.295727</td>\n      <td>0.295602</td>\n      <td>3.239918</td>\n      <td>0.0</td>\n      <td>0.000601</td>\n      <td>1.0</td>\n      <td>2.846018</td>\n      <td>6.099894</td>\n    </tr>\n    <tr>\n      <th>2</th>\n      <td>10</td>\n      <td>21</td>\n      <td>12</td>\n      <td>2021-10-21 12:00:00+00:00</td>\n      <td>0</td>\n      <td>10-248-50-179</td>\n      <td>0</td>\n      <td>0.291359</td>\n      <td>6.987567e-06</td>\n      <td>-1.633150</td>\n      <td>...</td>\n      <td>0.005371</td>\n      <td>0.287767</td>\n      <td>0.294712</td>\n      <td>0.294712</td>\n      <td>3.496313</td>\n      <td>0.0</td>\n      <td>0.001315</td>\n      <td>11.0</td>\n      <td>3.014938</td>\n      <td>7.090273</td>\n    </tr>\n    <tr>\n      <th>3</th>\n      <td>10</td>\n      <td>21</td>\n      <td>18</td>\n      <td>2021-10-21 18:00:00+00:00</td>\n      <td>0</td>\n      <td>10-248-50-179</td>\n      <td>0</td>\n      <td>0.288256</td>\n      <td>2.277511e-06</td>\n      <td>3.352199</td>\n      <td>...</td>\n      <td>0.000634</td>\n      <td>0.287338</td>\n      <td>0.292678</td>\n      <td>0.292678</td>\n      <td>3.459071</td>\n      <td>0.0</td>\n      <td>0.003148</td>\n      <td>7.0</td>\n      <td>3.015100</td>\n      <td>7.090861</td>\n    </tr>\n    <tr>\n      <th>4</th>\n      <td>10</td>\n      <td>22</td>\n      <td>0</td>\n      <td>2021-10-22 00:00:00+00:00</td>\n      <td>0</td>\n      <td>10-248-50-179</td>\n      <td>0</td>\n      <td>0.287424</td>\n      <td>9.186740e-09</td>\n      <td>0.470930</td>\n      <td>...</td>\n      <td>0.000096</td>\n      <td>0.287310</td>\n      <td>0.287656</td>\n      <td>0.287656</td>\n      <td>3.449089</td>\n      <td>0.0</td>\n      <td>-0.000124</td>\n      <td>2.0</td>\n      <td>3.015113</td>\n      <td>7.090909</td>\n    </tr>\n    <tr>\n      <th>...</th>\n      <td>...</td>\n      <td>...</td>\n      <td>...</td>\n      <td>...</td>\n      <td>...</td>\n      <td>...</td>\n      <td>...</td>\n      <td>...</td>\n      <td>...</td>\n      <td>...</td>\n      <td>...</td>\n      <td>...</td>\n      <td>...</td>\n      <td>...</td>\n      <td>...</td>\n      <td>...</td>\n      <td>...</td>\n      <td>...</td>\n      <td>...</td>\n      <td>...</td>\n      <td>...</td>\n    </tr>\n    <tr>\n      <th>406386</th>\n      <td>11</td>\n      <td>10</td>\n      <td>6</td>\n      <td>2021-11-10 06:00:00+00:00</td>\n      <td>0</td>\n      <td>zabbixproxyaws03</td>\n      <td>0</td>\n      <td>0.942558</td>\n      <td>1.163001e-06</td>\n      <td>2.106049</td>\n      <td>...</td>\n      <td>0.000013</td>\n      <td>0.939647</td>\n      <td>0.943039</td>\n      <td>0.939647</td>\n      <td>11.310691</td>\n      <td>0.0</td>\n      <td>-0.005339</td>\n      <td>1.0</td>\n      <td>3.015112</td>\n      <td>7.090905</td>\n    </tr>\n    <tr>\n      <th>406387</th>\n      <td>11</td>\n      <td>10</td>\n      <td>12</td>\n      <td>2021-11-10 12:00:00+00:00</td>\n      <td>0</td>\n      <td>zabbixproxyaws03</td>\n      <td>0</td>\n      <td>0.943009</td>\n      <td>4.393459e-10</td>\n      <td>-1.298360</td>\n      <td>...</td>\n      <td>0.000034</td>\n      <td>0.942971</td>\n      <td>0.943036</td>\n      <td>0.943020</td>\n      <td>11.316105</td>\n      <td>0.0</td>\n      <td>-0.000013</td>\n      <td>10.0</td>\n      <td>3.015113</td>\n      <td>7.090909</td>\n    </tr>\n    <tr>\n      <th>406388</th>\n      <td>11</td>\n      <td>10</td>\n      <td>18</td>\n      <td>2021-11-10 18:00:00+00:00</td>\n      <td>0</td>\n      <td>zabbixproxyaws03</td>\n      <td>0</td>\n      <td>0.942976</td>\n      <td>2.570209e-10</td>\n      <td>-1.068982</td>\n      <td>...</td>\n      <td>0.000024</td>\n      <td>0.942952</td>\n      <td>0.943007</td>\n      <td>0.943007</td>\n      <td>11.315713</td>\n      <td>0.0</td>\n      <td>0.000012</td>\n      <td>2.0</td>\n      <td>3.015113</td>\n      <td>7.090909</td>\n    </tr>\n    <tr>\n      <th>406389</th>\n      <td>11</td>\n      <td>11</td>\n      <td>0</td>\n      <td>2021-11-11 00:00:00+00:00</td>\n      <td>0</td>\n      <td>zabbixproxyaws03</td>\n      <td>0</td>\n      <td>0.942942</td>\n      <td>5.375984e-10</td>\n      <td>-1.666430</td>\n      <td>...</td>\n      <td>0.000047</td>\n      <td>0.942908</td>\n      <td>0.942970</td>\n      <td>0.942965</td>\n      <td>11.315298</td>\n      <td>0.0</td>\n      <td>0.000010</td>\n      <td>3.0</td>\n      <td>3.015113</td>\n      <td>7.090909</td>\n    </tr>\n    <tr>\n      <th>406390</th>\n      <td>11</td>\n      <td>11</td>\n      <td>6</td>\n      <td>2021-11-11 06:00:00+00:00</td>\n      <td>0</td>\n      <td>zabbixproxyaws03</td>\n      <td>0</td>\n      <td>0.942879</td>\n      <td>1.808016e-09</td>\n      <td>-1.692294</td>\n      <td>...</td>\n      <td>0.000075</td>\n      <td>0.942825</td>\n      <td>0.942947</td>\n      <td>0.942947</td>\n      <td>11.314552</td>\n      <td>0.0</td>\n      <td>0.000031</td>\n      <td>4.0</td>\n      <td>3.015113</td>\n      <td>7.090909</td>\n    </tr>\n  </tbody>\n</table>\n<p>406391 rows × 24 columns</p>\n</div>"
     },
     "execution_count": 8,
     "metadata": {},
     "output_type": "execute_result"
    }
   ],
   "source": [
    "data"
   ],
   "metadata": {
    "collapsed": false,
    "ExecuteTime": {
     "end_time": "2023-10-23T09:13:40.457321800Z",
     "start_time": "2023-10-23T09:13:40.263496Z"
    }
   },
   "id": "312f85d332e2343a"
  },
  {
   "cell_type": "code",
   "execution_count": 38,
   "outputs": [
    {
     "data": {
      "text/plain": "                           month    day   hour  idx_val_below_thr  metric  \\\nref_timestamp                                                               \n2021-08-15 00:00:00+00:00  18326  18326  18326              18326   18326   \n2021-08-22 00:00:00+00:00  30205  30205  30205              30205   30205   \n2021-08-29 00:00:00+00:00  30233  30233  30233              30233   30233   \n2021-09-05 00:00:00+00:00  30290  30290  30290              30290   30290   \n2021-09-12 00:00:00+00:00  30296  30296  30296              30296   30296   \n2021-09-19 00:00:00+00:00  30316  30316  30316              30316   30316   \n2021-09-26 00:00:00+00:00  30520  30520  30520              30520   30520   \n2021-10-03 00:00:00+00:00  30839  30839  30839              30839   30839   \n2021-10-10 00:00:00+00:00  31154  31154  31154              31154   31154   \n2021-10-17 00:00:00+00:00  31561  31561  31561              31561   31561   \n2021-10-24 00:00:00+00:00  32011  32011  32011              32011   32011   \n2021-10-31 00:00:00+00:00  32256  32256  32256              32256   32256   \n2021-11-07 00:00:00+00:00  32256  32256  32256              32256   32256   \n2021-11-14 00:00:00+00:00  16128  16128  16128              16128   16128   \n\n                           label      0      1      2      3  ...      7  \\\nref_timestamp                                                 ...          \n2021-08-15 00:00:00+00:00  18326  18326  18326  14644  14644  ...  18326   \n2021-08-22 00:00:00+00:00  30205  30205  30205  24098  24098  ...  30205   \n2021-08-29 00:00:00+00:00  30233  30233  30233  24152  24152  ...  30233   \n2021-09-05 00:00:00+00:00  30290  30290  30290  24292  24292  ...  30290   \n2021-09-12 00:00:00+00:00  30296  30296  30296  24220  24220  ...  30296   \n2021-09-19 00:00:00+00:00  30316  30316  30316  24276  24276  ...  30316   \n2021-09-26 00:00:00+00:00  30520  30520  30520  24422  24422  ...  30520   \n2021-10-03 00:00:00+00:00  30839  30839  30839  24725  24725  ...  30839   \n2021-10-10 00:00:00+00:00  31154  31154  31154  24963  24963  ...  31154   \n2021-10-17 00:00:00+00:00  31561  31561  31561  25251  25251  ...  31561   \n2021-10-24 00:00:00+00:00  32011  32011  32011  25706  25706  ...  32011   \n2021-10-31 00:00:00+00:00  32256  32256  32256  25850  25850  ...  32256   \n2021-11-07 00:00:00+00:00  32256  32256  32256  25851  25851  ...  32256   \n2021-11-14 00:00:00+00:00  16128  16128  16128  13003  13003  ...  16128   \n\n                               8      9     10     11     12     13     14  \\\nref_timestamp                                                                \n2021-08-15 00:00:00+00:00  18326  18326  18326  18326  18326  18326  18326   \n2021-08-22 00:00:00+00:00  30205  30205  30205  30205  30205  30205  30205   \n2021-08-29 00:00:00+00:00  30233  30233  30233  30233  30233  30233  30233   \n2021-09-05 00:00:00+00:00  30290  30290  30290  30290  30290  30290  30290   \n2021-09-12 00:00:00+00:00  30296  30296  30296  30296  30296  30296  30296   \n2021-09-19 00:00:00+00:00  30316  30316  30316  30316  30316  30316  30316   \n2021-09-26 00:00:00+00:00  30520  30520  30520  30520  30520  30520  30520   \n2021-10-03 00:00:00+00:00  30839  30839  30839  30839  30839  30839  30839   \n2021-10-10 00:00:00+00:00  31154  31154  31154  31154  31154  31154  31154   \n2021-10-17 00:00:00+00:00  31561  31561  31561  31561  31561  31561  31561   \n2021-10-24 00:00:00+00:00  32011  32011  32011  32011  32011  32011  32011   \n2021-10-31 00:00:00+00:00  32256  32256  32256  32256  32256  32256  32256   \n2021-11-07 00:00:00+00:00  32256  32256  32256  32256  32256  32256  32256   \n2021-11-14 00:00:00+00:00  16128  16128  16128  16128  16128  16128  16128   \n\n                              15     16  \nref_timestamp                            \n2021-08-15 00:00:00+00:00  18326  18326  \n2021-08-22 00:00:00+00:00  30201  30201  \n2021-08-29 00:00:00+00:00  30231  30231  \n2021-09-05 00:00:00+00:00  30289  30289  \n2021-09-12 00:00:00+00:00  30277  30277  \n2021-09-19 00:00:00+00:00  30288  30288  \n2021-09-26 00:00:00+00:00  30491  30491  \n2021-10-03 00:00:00+00:00  30805  30805  \n2021-10-10 00:00:00+00:00  31120  31120  \n2021-10-17 00:00:00+00:00  31533  31533  \n2021-10-24 00:00:00+00:00  31981  31981  \n2021-10-31 00:00:00+00:00  32228  32228  \n2021-11-07 00:00:00+00:00  32228  32228  \n2021-11-14 00:00:00+00:00  16114  16114  \n\n[14 rows x 23 columns]",
      "text/html": "<div>\n<style scoped>\n    .dataframe tbody tr th:only-of-type {\n        vertical-align: middle;\n    }\n\n    .dataframe tbody tr th {\n        vertical-align: top;\n    }\n\n    .dataframe thead th {\n        text-align: right;\n    }\n</style>\n<table border=\"1\" class=\"dataframe\">\n  <thead>\n    <tr style=\"text-align: right;\">\n      <th></th>\n      <th>month</th>\n      <th>day</th>\n      <th>hour</th>\n      <th>idx_val_below_thr</th>\n      <th>metric</th>\n      <th>label</th>\n      <th>0</th>\n      <th>1</th>\n      <th>2</th>\n      <th>3</th>\n      <th>...</th>\n      <th>7</th>\n      <th>8</th>\n      <th>9</th>\n      <th>10</th>\n      <th>11</th>\n      <th>12</th>\n      <th>13</th>\n      <th>14</th>\n      <th>15</th>\n      <th>16</th>\n    </tr>\n    <tr>\n      <th>ref_timestamp</th>\n      <th></th>\n      <th></th>\n      <th></th>\n      <th></th>\n      <th></th>\n      <th></th>\n      <th></th>\n      <th></th>\n      <th></th>\n      <th></th>\n      <th></th>\n      <th></th>\n      <th></th>\n      <th></th>\n      <th></th>\n      <th></th>\n      <th></th>\n      <th></th>\n      <th></th>\n      <th></th>\n      <th></th>\n    </tr>\n  </thead>\n  <tbody>\n    <tr>\n      <th>2021-08-15 00:00:00+00:00</th>\n      <td>18326</td>\n      <td>18326</td>\n      <td>18326</td>\n      <td>18326</td>\n      <td>18326</td>\n      <td>18326</td>\n      <td>18326</td>\n      <td>18326</td>\n      <td>14644</td>\n      <td>14644</td>\n      <td>...</td>\n      <td>18326</td>\n      <td>18326</td>\n      <td>18326</td>\n      <td>18326</td>\n      <td>18326</td>\n      <td>18326</td>\n      <td>18326</td>\n      <td>18326</td>\n      <td>18326</td>\n      <td>18326</td>\n    </tr>\n    <tr>\n      <th>2021-08-22 00:00:00+00:00</th>\n      <td>30205</td>\n      <td>30205</td>\n      <td>30205</td>\n      <td>30205</td>\n      <td>30205</td>\n      <td>30205</td>\n      <td>30205</td>\n      <td>30205</td>\n      <td>24098</td>\n      <td>24098</td>\n      <td>...</td>\n      <td>30205</td>\n      <td>30205</td>\n      <td>30205</td>\n      <td>30205</td>\n      <td>30205</td>\n      <td>30205</td>\n      <td>30205</td>\n      <td>30205</td>\n      <td>30201</td>\n      <td>30201</td>\n    </tr>\n    <tr>\n      <th>2021-08-29 00:00:00+00:00</th>\n      <td>30233</td>\n      <td>30233</td>\n      <td>30233</td>\n      <td>30233</td>\n      <td>30233</td>\n      <td>30233</td>\n      <td>30233</td>\n      <td>30233</td>\n      <td>24152</td>\n      <td>24152</td>\n      <td>...</td>\n      <td>30233</td>\n      <td>30233</td>\n      <td>30233</td>\n      <td>30233</td>\n      <td>30233</td>\n      <td>30233</td>\n      <td>30233</td>\n      <td>30233</td>\n      <td>30231</td>\n      <td>30231</td>\n    </tr>\n    <tr>\n      <th>2021-09-05 00:00:00+00:00</th>\n      <td>30290</td>\n      <td>30290</td>\n      <td>30290</td>\n      <td>30290</td>\n      <td>30290</td>\n      <td>30290</td>\n      <td>30290</td>\n      <td>30290</td>\n      <td>24292</td>\n      <td>24292</td>\n      <td>...</td>\n      <td>30290</td>\n      <td>30290</td>\n      <td>30290</td>\n      <td>30290</td>\n      <td>30290</td>\n      <td>30290</td>\n      <td>30290</td>\n      <td>30290</td>\n      <td>30289</td>\n      <td>30289</td>\n    </tr>\n    <tr>\n      <th>2021-09-12 00:00:00+00:00</th>\n      <td>30296</td>\n      <td>30296</td>\n      <td>30296</td>\n      <td>30296</td>\n      <td>30296</td>\n      <td>30296</td>\n      <td>30296</td>\n      <td>30296</td>\n      <td>24220</td>\n      <td>24220</td>\n      <td>...</td>\n      <td>30296</td>\n      <td>30296</td>\n      <td>30296</td>\n      <td>30296</td>\n      <td>30296</td>\n      <td>30296</td>\n      <td>30296</td>\n      <td>30296</td>\n      <td>30277</td>\n      <td>30277</td>\n    </tr>\n    <tr>\n      <th>2021-09-19 00:00:00+00:00</th>\n      <td>30316</td>\n      <td>30316</td>\n      <td>30316</td>\n      <td>30316</td>\n      <td>30316</td>\n      <td>30316</td>\n      <td>30316</td>\n      <td>30316</td>\n      <td>24276</td>\n      <td>24276</td>\n      <td>...</td>\n      <td>30316</td>\n      <td>30316</td>\n      <td>30316</td>\n      <td>30316</td>\n      <td>30316</td>\n      <td>30316</td>\n      <td>30316</td>\n      <td>30316</td>\n      <td>30288</td>\n      <td>30288</td>\n    </tr>\n    <tr>\n      <th>2021-09-26 00:00:00+00:00</th>\n      <td>30520</td>\n      <td>30520</td>\n      <td>30520</td>\n      <td>30520</td>\n      <td>30520</td>\n      <td>30520</td>\n      <td>30520</td>\n      <td>30520</td>\n      <td>24422</td>\n      <td>24422</td>\n      <td>...</td>\n      <td>30520</td>\n      <td>30520</td>\n      <td>30520</td>\n      <td>30520</td>\n      <td>30520</td>\n      <td>30520</td>\n      <td>30520</td>\n      <td>30520</td>\n      <td>30491</td>\n      <td>30491</td>\n    </tr>\n    <tr>\n      <th>2021-10-03 00:00:00+00:00</th>\n      <td>30839</td>\n      <td>30839</td>\n      <td>30839</td>\n      <td>30839</td>\n      <td>30839</td>\n      <td>30839</td>\n      <td>30839</td>\n      <td>30839</td>\n      <td>24725</td>\n      <td>24725</td>\n      <td>...</td>\n      <td>30839</td>\n      <td>30839</td>\n      <td>30839</td>\n      <td>30839</td>\n      <td>30839</td>\n      <td>30839</td>\n      <td>30839</td>\n      <td>30839</td>\n      <td>30805</td>\n      <td>30805</td>\n    </tr>\n    <tr>\n      <th>2021-10-10 00:00:00+00:00</th>\n      <td>31154</td>\n      <td>31154</td>\n      <td>31154</td>\n      <td>31154</td>\n      <td>31154</td>\n      <td>31154</td>\n      <td>31154</td>\n      <td>31154</td>\n      <td>24963</td>\n      <td>24963</td>\n      <td>...</td>\n      <td>31154</td>\n      <td>31154</td>\n      <td>31154</td>\n      <td>31154</td>\n      <td>31154</td>\n      <td>31154</td>\n      <td>31154</td>\n      <td>31154</td>\n      <td>31120</td>\n      <td>31120</td>\n    </tr>\n    <tr>\n      <th>2021-10-17 00:00:00+00:00</th>\n      <td>31561</td>\n      <td>31561</td>\n      <td>31561</td>\n      <td>31561</td>\n      <td>31561</td>\n      <td>31561</td>\n      <td>31561</td>\n      <td>31561</td>\n      <td>25251</td>\n      <td>25251</td>\n      <td>...</td>\n      <td>31561</td>\n      <td>31561</td>\n      <td>31561</td>\n      <td>31561</td>\n      <td>31561</td>\n      <td>31561</td>\n      <td>31561</td>\n      <td>31561</td>\n      <td>31533</td>\n      <td>31533</td>\n    </tr>\n    <tr>\n      <th>2021-10-24 00:00:00+00:00</th>\n      <td>32011</td>\n      <td>32011</td>\n      <td>32011</td>\n      <td>32011</td>\n      <td>32011</td>\n      <td>32011</td>\n      <td>32011</td>\n      <td>32011</td>\n      <td>25706</td>\n      <td>25706</td>\n      <td>...</td>\n      <td>32011</td>\n      <td>32011</td>\n      <td>32011</td>\n      <td>32011</td>\n      <td>32011</td>\n      <td>32011</td>\n      <td>32011</td>\n      <td>32011</td>\n      <td>31981</td>\n      <td>31981</td>\n    </tr>\n    <tr>\n      <th>2021-10-31 00:00:00+00:00</th>\n      <td>32256</td>\n      <td>32256</td>\n      <td>32256</td>\n      <td>32256</td>\n      <td>32256</td>\n      <td>32256</td>\n      <td>32256</td>\n      <td>32256</td>\n      <td>25850</td>\n      <td>25850</td>\n      <td>...</td>\n      <td>32256</td>\n      <td>32256</td>\n      <td>32256</td>\n      <td>32256</td>\n      <td>32256</td>\n      <td>32256</td>\n      <td>32256</td>\n      <td>32256</td>\n      <td>32228</td>\n      <td>32228</td>\n    </tr>\n    <tr>\n      <th>2021-11-07 00:00:00+00:00</th>\n      <td>32256</td>\n      <td>32256</td>\n      <td>32256</td>\n      <td>32256</td>\n      <td>32256</td>\n      <td>32256</td>\n      <td>32256</td>\n      <td>32256</td>\n      <td>25851</td>\n      <td>25851</td>\n      <td>...</td>\n      <td>32256</td>\n      <td>32256</td>\n      <td>32256</td>\n      <td>32256</td>\n      <td>32256</td>\n      <td>32256</td>\n      <td>32256</td>\n      <td>32256</td>\n      <td>32228</td>\n      <td>32228</td>\n    </tr>\n    <tr>\n      <th>2021-11-14 00:00:00+00:00</th>\n      <td>16128</td>\n      <td>16128</td>\n      <td>16128</td>\n      <td>16128</td>\n      <td>16128</td>\n      <td>16128</td>\n      <td>16128</td>\n      <td>16128</td>\n      <td>13003</td>\n      <td>13003</td>\n      <td>...</td>\n      <td>16128</td>\n      <td>16128</td>\n      <td>16128</td>\n      <td>16128</td>\n      <td>16128</td>\n      <td>16128</td>\n      <td>16128</td>\n      <td>16128</td>\n      <td>16114</td>\n      <td>16114</td>\n    </tr>\n  </tbody>\n</table>\n<p>14 rows × 23 columns</p>\n</div>"
     },
     "execution_count": 38,
     "metadata": {},
     "output_type": "execute_result"
    }
   ],
   "source": [
    "data.groupby(pd.Grouper(key='ref_timestamp', freq='W-SUN')).count()"
   ],
   "metadata": {
    "collapsed": false,
    "ExecuteTime": {
     "end_time": "2023-10-19T08:10:45.257263200Z",
     "start_time": "2023-10-19T08:10:44.504270Z"
    }
   },
   "id": "608735d53f329321"
  },
  {
   "cell_type": "code",
   "execution_count": 45,
   "outputs": [
    {
     "data": {
      "text/plain": "(4.123105625617661, 6.611489018457944, 2.571281590658235)"
     },
     "execution_count": 45,
     "metadata": {},
     "output_type": "execute_result"
    }
   ],
   "source": [
    "np.sqrt(17), 17**(2/3), 17**(1/3)"
   ],
   "metadata": {
    "collapsed": false,
    "ExecuteTime": {
     "end_time": "2023-10-19T09:17:45.850235700Z",
     "start_time": "2023-10-19T09:17:45.797683Z"
    }
   },
   "id": "6b959c0db3611e37"
  },
  {
   "cell_type": "code",
   "execution_count": 49,
   "outputs": [
    {
     "data": {
      "text/plain": "6.800000000000001"
     },
     "execution_count": 49,
     "metadata": {},
     "output_type": "execute_result"
    }
   ],
   "source": [
    "17*.4"
   ],
   "metadata": {
    "collapsed": false,
    "ExecuteTime": {
     "end_time": "2023-10-19T09:19:47.324204100Z",
     "start_time": "2023-10-19T09:19:47.292851Z"
    }
   },
   "id": "8b59d58cd627bca8"
  },
  {
   "cell_type": "code",
   "execution_count": 50,
   "outputs": [
    {
     "data": {
      "text/plain": "'C:\\\\Users\\\\damatov\\\\OneDrive - SeSa S.p.A\\\\Documenti\\\\Lavoro\\\\AI_var_group\\\\StefanoML\\\\analysis'"
     },
     "execution_count": 50,
     "metadata": {},
     "output_type": "execute_result"
    }
   ],
   "source": [
    "os.getcwd()"
   ],
   "metadata": {
    "collapsed": false,
    "ExecuteTime": {
     "end_time": "2023-10-19T10:45:19.348359500Z",
     "start_time": "2023-10-19T10:45:19.345341900Z"
    }
   },
   "id": "ed7a1774db015260"
  },
  {
   "cell_type": "code",
   "execution_count": 81,
   "outputs": [],
   "source": [
    "from sklearn.linear_model import LogisticRegression"
   ],
   "metadata": {
    "collapsed": false,
    "ExecuteTime": {
     "end_time": "2023-10-19T13:28:02.554325900Z",
     "start_time": "2023-10-19T13:28:02.516685700Z"
    }
   },
   "id": "942a686346b16b24"
  },
  {
   "cell_type": "code",
   "execution_count": 82,
   "outputs": [],
   "source": [
    "def monte_carlo_leave_1_out(data, n_samples, seed=0):\n",
    "    group_by = ['month', 'day', 'hour']\n",
    "\n",
    "    grouped = data.groupby(group_by)\n",
    "    lun = len(grouped)\n",
    "    np.random.seed(seed)\n",
    "    mc = np.random.choice(lun, size=n_samples, replace=False)\n",
    "\n",
    "    for i, (name, test) in enumerate(grouped):\n",
    "        if i in mc:\n",
    "            train = data.drop(test.index)\n",
    "            return train.index, test.index"
   ],
   "metadata": {
    "collapsed": false,
    "ExecuteTime": {
     "end_time": "2023-10-19T13:28:02.955562600Z",
     "start_time": "2023-10-19T13:28:02.949798800Z"
    }
   },
   "id": "300c37c8632ad9aa"
  },
  {
   "cell_type": "code",
   "execution_count": 83,
   "outputs": [],
   "source": [
    "tr_idx, ts_idx = monte_carlo_leave_1_out(data, n_samples=5)"
   ],
   "metadata": {
    "collapsed": false,
    "ExecuteTime": {
     "end_time": "2023-10-19T13:28:05.047584500Z",
     "start_time": "2023-10-19T13:28:03.448472200Z"
    }
   },
   "id": "9b423a371ed02865"
  },
  {
   "cell_type": "code",
   "execution_count": 84,
   "outputs": [],
   "source": [
    "train_data = data.iloc[tr_idx]\n",
    "test_data = data.iloc[ts_idx]\n",
    "\n",
    "tr = train_data.drop(['month', 'day', 'hour', 'ref_timestamp', 'idx_val_below_thr', 'metric', 'label'], axis=1)\n",
    "y_tr = train_data['label']\n",
    "ts = test_data.drop(['month', 'day', 'hour', 'ref_timestamp', 'idx_val_below_thr', 'metric', 'label'], axis=1)\n",
    "y_ts = test_data['label']"
   ],
   "metadata": {
    "collapsed": false,
    "ExecuteTime": {
     "end_time": "2023-10-19T13:28:05.210904800Z",
     "start_time": "2023-10-19T13:28:05.053043900Z"
    }
   },
   "id": "a64b0ce82af74b7f"
  },
  {
   "cell_type": "code",
   "execution_count": 85,
   "outputs": [],
   "source": [
    "from sklearn.metrics import f1_score\n",
    "from sklearn.feature_selection import VarianceThreshold\n",
    "from sklearn.impute import SimpleImputer\n",
    "from sklearn.pipeline import Pipeline\n",
    "from sklearn.preprocessing import StandardScaler"
   ],
   "metadata": {
    "collapsed": false,
    "ExecuteTime": {
     "end_time": "2023-10-19T13:28:05.227770500Z",
     "start_time": "2023-10-19T13:28:05.219374Z"
    }
   },
   "id": "d3860961a5c62f00"
  },
  {
   "cell_type": "code",
   "execution_count": 86,
   "outputs": [
    {
     "name": "stdout",
     "output_type": "stream",
     "text": [
      "CPU times: total: 1.03 s\n",
      "Wall time: 2.34 s\n"
     ]
    },
    {
     "data": {
      "text/plain": "0.96"
     },
     "execution_count": 86,
     "metadata": {},
     "output_type": "execute_result"
    }
   ],
   "source": [
    "%%time\n",
    "named_steps = {\n",
    "    'imputer': SimpleImputer(missing_values=np.nan, strategy='mean'),\n",
    "    'scaler': StandardScaler(),\n",
    "    'variance_threshold': VarianceThreshold(),\n",
    "    'model': LogisticRegression(max_iter=1000, solver='newton-cholesky')\n",
    "}\n",
    "\n",
    "clf = Pipeline(list(named_steps.items()))\n",
    "clf.fit(tr, y_tr)\n",
    "y_pred = clf.predict(ts)\n",
    "f1_score(y_ts, y_pred)"
   ],
   "metadata": {
    "collapsed": false,
    "ExecuteTime": {
     "end_time": "2023-10-19T13:28:07.588572300Z",
     "start_time": "2023-10-19T13:28:05.233650200Z"
    }
   },
   "id": "e4d46b579b96294"
  },
  {
   "cell_type": "code",
   "execution_count": null,
   "outputs": [],
   "source": [],
   "metadata": {
    "collapsed": false
   },
   "id": "fc267baa5f964bd6"
  }
 ],
 "metadata": {
  "kernelspec": {
   "display_name": "Python 3",
   "language": "python",
   "name": "python3"
  },
  "language_info": {
   "codemirror_mode": {
    "name": "ipython",
    "version": 2
   },
   "file_extension": ".py",
   "mimetype": "text/x-python",
   "name": "python",
   "nbconvert_exporter": "python",
   "pygments_lexer": "ipython2",
   "version": "2.7.6"
  }
 },
 "nbformat": 4,
 "nbformat_minor": 5
}
